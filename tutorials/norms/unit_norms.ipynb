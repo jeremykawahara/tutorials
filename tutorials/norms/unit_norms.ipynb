{
 "cells": [
  {
   "cell_type": "markdown",
   "metadata": {},
   "source": [
    "<p>Please see the corresponding writeup here: http://kawahara.ca/how-to-normalize-vectors-to-unit-norm-in-python/</p>"
   ]
  },
  {
   "cell_type": "code",
   "execution_count": 21,
   "metadata": {},
   "outputs": [
    {
     "name": "stdout",
     "output_type": "stream",
     "text": [
      "[[-1.  0.  1.]\n",
      " [ 0.  1.  2.]]\n"
     ]
    }
   ],
   "source": [
    "import numpy as np\n",
    "from sklearn import preprocessing\n",
    "\n",
    "# 2 samples, with 3 dimensions.\n",
    "# The 2 rows indicate 2 samples.\n",
    "# The 3 columns indicate 3 features for each sample.\n",
    "X = np.asarray([\n",
    "[-1,0,1],\n",
    "[0,1,2]],\n",
    "dtype=np.float) # Float is needed.\n",
    "\n",
    "# Before-normalization.\n",
    "print(X)\n",
    "# Output,\n",
    "# [[-1.  0.  1.]\n",
    "#  [ 0.  1.  2.]]"
   ]
  },
  {
   "cell_type": "markdown",
   "metadata": {},
   "source": [
    "<h1>L2 Normalization</h1>"
   ]
  },
  {
   "cell_type": "code",
   "execution_count": 22,
   "metadata": {},
   "outputs": [
    {
     "name": "stdout",
     "output_type": "stream",
     "text": [
      "[[-0.70710678  0.          0.70710678]\n",
      " [ 0.          0.4472136   0.89442719]]\n"
     ]
    }
   ],
   "source": [
    "# l2-normalize the samples (rows).\n",
    "X_normalized = preprocessing.normalize(X, norm='l2')\n",
    "\n",
    "# After normalization.\n",
    "print(X_normalized)\n",
    "# Output,\n",
    "# [[-0.70710678  0.          0.70710678]\n",
    "#  [ 0.          0.4472136   0.89442719]]"
   ]
  },
  {
   "cell_type": "code",
   "execution_count": 23,
   "metadata": {},
   "outputs": [
    {
     "name": "stdout",
     "output_type": "stream",
     "text": [
      "[[0.5 0.  0.5]\n",
      " [0.  0.2 0.8]]\n",
      "[1. 1.]\n"
     ]
    }
   ],
   "source": [
    "# Square all the elements/features.\n",
    "X_squared = X_normalized ** 2\n",
    "print(X_squared)\n",
    "# Output,\n",
    "# [[ 0.5  0.   0.5]\n",
    "#  [ 0.   0.2  0.8]]\n",
    "\n",
    "# Sum over the rows.\n",
    "X_sum_squared = np.sum(X_squared, axis=1)\n",
    "print(X_sum_squared)\n",
    "# Output,\n",
    "# [ 1.  1.]\n",
    "\n",
    "# Yay! Each row sums to 1 after being normalized."
   ]
  },
  {
   "cell_type": "markdown",
   "metadata": {},
   "source": [
    "<h1>L1 normalization</h1>"
   ]
  },
  {
   "cell_type": "code",
   "execution_count": 24,
   "metadata": {},
   "outputs": [
    {
     "name": "stdout",
     "output_type": "stream",
     "text": [
      "[[-0.5         0.          0.5       ]\n",
      " [ 0.          0.33333333  0.66666667]]\n"
     ]
    }
   ],
   "source": [
    "X_normalized_l1 = preprocessing.normalize(X, norm='l1')\n",
    "print(X_normalized_l1)\n",
    "# [[-0.5   0.   0.5]\n",
    "#  [  0.   0.3  0.67]]"
   ]
  },
  {
   "cell_type": "code",
   "execution_count": 25,
   "metadata": {},
   "outputs": [
    {
     "name": "stdout",
     "output_type": "stream",
     "text": [
      "[[0.5        0.         0.5       ]\n",
      " [0.         0.33333333 0.66666667]]\n"
     ]
    }
   ],
   "source": [
    "# Absolute value of all elements/features.\n",
    "X_abs = np.abs(X_normalized_l1)\n",
    "print(X_abs)\n",
    "# [[0.5   0.   0.5]\n",
    "#  [0     0.3  0.67]]"
   ]
  },
  {
   "cell_type": "code",
   "execution_count": 26,
   "metadata": {},
   "outputs": [
    {
     "name": "stdout",
     "output_type": "stream",
     "text": [
      "[1. 1.]\n"
     ]
    }
   ],
   "source": [
    "# Sum over the rows.\n",
    "X_sum_abs = np.sum(X_abs, axis=1)\n",
    "print(X_sum_abs)\n",
    "# Output,\n",
    "# [ 1.  1.]\n",
    "\n",
    "# Yay! Each row sums to 1 after being normalized."
   ]
  },
  {
   "cell_type": "code",
   "execution_count": null,
   "metadata": {},
   "outputs": [],
   "source": [
    "<h2>How to l1-normalize vectors to a unit vector in Python</h2>\n",
    "Now you might ask yourself, well that worked for L2 normalization. But what about L1 normalization?\n",
    "\n",
    "In <code>L2 normalization</code> we normalize each sample (row) so the <strong>squared</strong> elements sum to 1. While in <code>L1 normalization</code> we normalize each sample (row) so the <strong>absolute value</strong> of each element sums to 1.\n",
    "\n",
    "Let's do another example for L1 normalization (where <code>X</code> is the same as above)!\n",
    "\n",
    "[python]\n",
    "X_normalized_l1 = preprocessing.normalize(X, norm='l1')\n",
    "print(X_normalized_l1)\n",
    "# [[-0.5   0.   0.5]\n",
    "#  [  0.   0.3  0.67]]\n",
    "[/python]\n",
    "\n",
    "Okay looks promising! Let's do a quick sanity check.\n",
    "\n",
    "[python]\n",
    "# Absolute value of all elements/features.\n",
    "X_abs = np.abs(X_normalized_l1)\n",
    "print(X_abs)\n",
    "# [[0.5   0.   0.5]\n",
    "#  [0     0.3  0.67]]\n",
    "\n",
    "# Sum over the rows.\n",
    "X_sum_abs = np.sum(X_abs, axis=1)\n",
    "print(X_sum_abs)\n",
    "# Output,\n",
    "# [ 1.  1.]\n",
    "\n",
    "# Yay! Each row sums to 1 after being normalized.\n",
    "[/python]\n",
    "\n",
    "We can now see that taking the absolute value of each element, and then summing across each row, gives the expected value of \"1\" for each row."
   ]
  }
 ],
 "metadata": {
  "kernelspec": {
   "display_name": "Python 3",
   "language": "python",
   "name": "python3"
  },
  "language_info": {
   "codemirror_mode": {
    "name": "ipython",
    "version": 3
   },
   "file_extension": ".py",
   "mimetype": "text/x-python",
   "name": "python",
   "nbconvert_exporter": "python",
   "pygments_lexer": "ipython3",
   "version": "3.5.2"
  }
 },
 "nbformat": 4,
 "nbformat_minor": 2
}
