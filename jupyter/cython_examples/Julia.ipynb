{
 "cells": [
  {
   "cell_type": "markdown",
   "metadata": {},
   "source": [
    "## How to run this\n",
    "#### Install Julia\n",
    "https://julialang.org/downloads/platform.html\n",
    "#### Install Julia Kernel in jupyter\n",
    "Once Julia is installed, open a console :\n",
    "```Bash\n",
    "$julia\n",
    "$julia> Pkg.add(\"IJulia\")\n",
    "```\n",
    "This will install the Julia kernel in your Jupyter environment. You can now create a new notebook with the Julia kernel. Autocompletion should work (can depend on pyreadline)\n",
    "More information:\n",
    "https://github.com/JuliaLang/IJulia.jl"
   ]
  },
  {
   "cell_type": "markdown",
   "metadata": {},
   "source": [
    "#### CPython vs Julia\n",
    "The speed (in this use case) is the result of Julia's interpreter/compiler being able to deduce the type of arguments and variables from a lexical scan. Explicit annotation is possible (for example Z could suffice with Array{Int8, 1} instead of Array{Int64, 1}, but then we're not doing the same anymore as the CPython example."
   ]
  },
  {
   "cell_type": "code",
   "execution_count": 32,
   "metadata": {},
   "outputs": [],
   "source": [
    "### Three versions of the same functionality, in the end the cost of preallocating Y is the bottleneck, always\n",
    "\n",
    "# Optionally specify type : Name::Type\n",
    "# ! as a postfix means : this function will not alter it's arguments (pass by pointer)\n",
    "function loop!(X, H, W, Z)\n",
    "    Y = similar(X, (H,W))     # Allocates same array as first argument without initialization\n",
    "    @simd for y in 1:W        # Column major order in Julia, so row index changes faster.\n",
    "        @simd for x in 1:H    # Enables SIMD instructions if applicable\n",
    "           @inbounds Y[x,y] = Z[X[x,y]] # Removes bound checks in compiled code for maximum speed, does not make an impact here\n",
    "        end\n",
    "    end\n",
    "    return Y\n",
    "end\n",
    "\n",
    "# The same as before, but now pass Y in by argument\n",
    "function loop3(X, H, W, Z, Y)\n",
    "    @simd for y in 1:W\n",
    "        @simd for x in 1:H\n",
    "           @inbounds Y[x,y] = Z[X[x,y]]\n",
    "        end\n",
    "    end\n",
    "end\n",
    "\n",
    "# Slicing assignment, turns out this is slower since it creates copies internally, todo: figure out to avoid this\n",
    "function loop2!(X, H, W, Z)\n",
    "    return Z[X[1:H, 1:W]]\n",
    "end;"
   ]
  },
  {
   "cell_type": "code",
   "execution_count": 35,
   "metadata": {},
   "outputs": [],
   "source": [
    "# Bigger example.\n",
    "H = 5000\n",
    "W = 5000\n",
    "srand(0)\n",
    "X = rand(1:6, (H, W))\n",
    "Z = [10,11,12,13,14,15];"
   ]
  },
  {
   "cell_type": "code",
   "execution_count": 36,
   "metadata": {},
   "outputs": [],
   "source": [
    "Y = loop!(X, H, W, Z); # Record Y for validation.\n"
   ]
  },
  {
   "cell_type": "markdown",
   "metadata": {},
   "source": [
    "Note: The value of an expression is the expression itself, so in this case Y is printed, unless we silence this by adding\";\". This is also true for function, the return value (unless you use return) is always the last expression of a function body."
   ]
  },
  {
   "cell_type": "code",
   "execution_count": 48,
   "metadata": {},
   "outputs": [
    {
     "name": "stdout",
     "output_type": "stream",
     "text": [
      "Basic implementation\n",
      "  0.055833 seconds (2 allocations: 190.735 MiB, 2.68% gc time)\n",
      "  0.046620 seconds (2 allocations: 190.735 MiB, 2.53% gc time)\n",
      "  0.037611 seconds (2 allocations: 190.735 MiB, 2.75% gc time)\n",
      "  0.042557 seconds (2 allocations: 190.735 MiB, 2.22% gc time)\n",
      "  0.038147 seconds (2 allocations: 190.735 MiB, 2.37% gc time)\n",
      "  0.031778 seconds (2 allocations: 190.735 MiB, 2.64% gc time)\n",
      "  0.031687 seconds (2 allocations: 190.735 MiB, 2.65% gc time)\n",
      "  0.038285 seconds (2 allocations: 190.735 MiB, 2.43% gc time)\n",
      "  0.032675 seconds (2 allocations: 190.735 MiB, 2.56% gc time)\n",
      "  0.031885 seconds (2 allocations: 190.735 MiB, 2.60% gc time)\n",
      "Types in use are X Array{Int64,2} Y Array{Int64,2} Z Array{Int64,1}"
     ]
    }
   ],
   "source": [
    "\n",
    "println(\"Basic implementation\")\n",
    "for i in 1:10\n",
    "    @time Y = loop!(X, H, W, Z)\n",
    "end\n",
    "@printf \"Types in use are X %s Y %s Z %s\" typeof(X) typeof(Y) typeof(Z)"
   ]
  },
  {
   "cell_type": "markdown",
   "metadata": {},
   "source": [
    "Note the initial GC time, that goes to zero after 2-3 iterations, it's reusing the allocated memory. If we execute the function once, before looping, it will almost immediately go to zero, since it can show that nothing is using Y, so it can reuse the memory. In addition, that memory is cache-hot (since the indices don't change.\n",
    "\n",
    "You can see that Julia 'knows' the types to be used here. These are the same as CPython's long, signed 64 bit integers. We could cheat here and use {Int8,2} for Y but that's no longer equivalent to the Python use case, and it's not guaranteed to be faster (depends on if/how LLVM will allocate an int per word etc)"
   ]
  },
  {
   "cell_type": "markdown",
   "metadata": {},
   "source": [
    "##### Slicing\n",
    "Test if assignment by slicing is faster. "
   ]
  },
  {
   "cell_type": "code",
   "execution_count": 38,
   "metadata": {},
   "outputs": [],
   "source": [
    "Y2 = loop2!(X,H,W,Z);"
   ]
  },
  {
   "cell_type": "code",
   "execution_count": 39,
   "metadata": {},
   "outputs": [
    {
     "name": "stdout",
     "output_type": "stream",
     "text": [
      "Slice operators\n",
      "  0.164668 seconds (7 allocations: 381.470 MiB, 38.84% gc time)\n",
      "  0.152049 seconds (7 allocations: 381.470 MiB, 38.57% gc time)\n",
      "  0.106229 seconds (7 allocations: 381.470 MiB, 3.46% gc time)\n",
      "  0.095065 seconds (7 allocations: 381.470 MiB, 1.71% gc time)\n",
      "  0.091430 seconds (7 allocations: 381.470 MiB, 1.77% gc time)\n",
      "  0.103734 seconds (7 allocations: 381.470 MiB, 1.51% gc time)\n",
      "  0.096250 seconds (7 allocations: 381.470 MiB, 1.77% gc time)\n",
      "  0.100903 seconds (7 allocations: 381.470 MiB, 1.64% gc time)\n",
      "  0.095786 seconds (7 allocations: 381.470 MiB, 1.80% gc time)\n",
      "  0.089626 seconds (7 allocations: 381.470 MiB, 1.72% gc time)\n"
     ]
    }
   ],
   "source": [
    "println(\"Slice operators\")\n",
    "for i in 1:10\n",
    "    @time Y2 = loop2!(X,H,W,Z)\n",
    "end"
   ]
  },
  {
   "cell_type": "markdown",
   "metadata": {},
   "source": [
    "Note the doubling of memory, and the runtime. Clearly the slicing is using temporary arrays."
   ]
  },
  {
   "cell_type": "code",
   "execution_count": 40,
   "metadata": {},
   "outputs": [
    {
     "data": {
      "text/plain": [
       "true"
      ]
     },
     "execution_count": 40,
     "metadata": {},
     "output_type": "execute_result"
    }
   ],
   "source": [
    "Y == Y2"
   ]
  },
  {
   "cell_type": "markdown",
   "metadata": {},
   "source": [
    "Let's see what happens if we remove allocation from the loop."
   ]
  },
  {
   "cell_type": "code",
   "execution_count": 41,
   "metadata": {},
   "outputs": [],
   "source": [
    "Y3 = similar(Y);"
   ]
  },
  {
   "cell_type": "code",
   "execution_count": 42,
   "metadata": {},
   "outputs": [
    {
     "name": "stdout",
     "output_type": "stream",
     "text": [
      "Isolating the allocation  0.033496 seconds\n",
      "Isolating the allocation  0.041041 seconds\n",
      "Isolating the allocation  0.033830 seconds\n",
      "Isolating the allocation  0.040960 seconds\n",
      "Isolating the allocation  0.043166 seconds\n",
      "Isolating the allocation  0.033897 seconds\n",
      "Isolating the allocation  0.040489 seconds\n",
      "Isolating the allocation  0.033887 seconds\n",
      "Isolating the allocation  0.033774 seconds\n",
      "Isolating the allocation  0.040962 seconds\n"
     ]
    }
   ],
   "source": [
    "loop3(X,H,W,Z,Y3)\n",
    "for i in 1:10\n",
    "    print(\"Isolating the allocation\")\n",
    "#     Y3 = similar(Y)\n",
    "    @time loop3(X,H,W,Z,Y3)\n",
    "end"
   ]
  },
  {
   "cell_type": "markdown",
   "metadata": {},
   "source": [
    "Note how the GC isn't mentioned anymore in the timing, it's extracted to outside the loop."
   ]
  },
  {
   "cell_type": "code",
   "execution_count": 43,
   "metadata": {},
   "outputs": [
    {
     "data": {
      "text/plain": [
       "true"
      ]
     },
     "execution_count": 43,
     "metadata": {},
     "output_type": "execute_result"
    }
   ],
   "source": [
    "Y3 == Y"
   ]
  },
  {
   "cell_type": "code",
   "execution_count": null,
   "metadata": {},
   "outputs": [],
   "source": []
  }
 ],
 "metadata": {
  "kernelspec": {
   "display_name": "Julia 0.6.0",
   "language": "julia",
   "name": "julia-0.6"
  },
  "language_info": {
   "file_extension": ".jl",
   "mimetype": "application/julia",
   "name": "julia",
   "version": "0.6.0"
  }
 },
 "nbformat": 4,
 "nbformat_minor": 2
}
