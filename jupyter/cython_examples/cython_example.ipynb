{
 "cells": [
  {
   "cell_type": "code",
   "execution_count": 102,
   "metadata": {},
   "outputs": [],
   "source": [
    "import numpy as np\n",
    "import time # %%timeit has stats, but doesn't track GC, so use explicit process_time, I'm unsure if %%time tracks GC\n",
    "np.random.seed(0)"
   ]
  },
  {
   "cell_type": "code",
   "execution_count": 103,
   "metadata": {},
   "outputs": [
    {
     "name": "stdout",
     "output_type": "stream",
     "text": [
      "The Cython extension is already loaded. To reload it, use:\n",
      "  %reload_ext Cython\n"
     ]
    }
   ],
   "source": [
    "%load_ext Cython"
   ]
  },
  {
   "cell_type": "raw",
   "metadata": {},
   "source": [
    "Task: X contains indexes into Z. Create a new matrix Y that has the corresponding values from Z."
   ]
  },
  {
   "cell_type": "code",
   "execution_count": 104,
   "metadata": {},
   "outputs": [],
   "source": [
    "# Simple example.\n",
    "X = np.asarray([[0,1,1,0]])\n",
    "Z = np.asarray([3,2])\n",
    "\n",
    "# Expected output.\n",
    "Y_expected = np.asarray([[3,2,2,3]])"
   ]
  },
  {
   "cell_type": "code",
   "execution_count": 105,
   "metadata": {},
   "outputs": [],
   "source": [
    "def python_loop(X,H,W,Z):\n",
    "    Y = np.empty_like(X) # Switched to empty_like since we'll use all indices, this saves on zeroing the Y matrix.\n",
    "    for h in range(H):\n",
    "        for w in range(W):\n",
    "            val = X[h,w]\n",
    "            Y[h,w] = Z[val]\n",
    "    return Y"
   ]
  },
  {
   "cell_type": "code",
   "execution_count": 106,
   "metadata": {},
   "outputs": [],
   "source": [
    "Y = python_loop(X,H=X.shape[0],W=X.shape[1],Z=Z)"
   ]
  },
  {
   "cell_type": "code",
   "execution_count": 107,
   "metadata": {},
   "outputs": [
    {
     "data": {
      "text/plain": [
       "array([[3, 2, 2, 3]])"
      ]
     },
     "execution_count": 107,
     "metadata": {},
     "output_type": "execute_result"
    }
   ],
   "source": [
    "Y"
   ]
  },
  {
   "cell_type": "code",
   "execution_count": 108,
   "metadata": {},
   "outputs": [],
   "source": [
    "assert np.alltrue(Y_expected == Y)"
   ]
  },
  {
   "cell_type": "code",
   "execution_count": 109,
   "metadata": {},
   "outputs": [],
   "source": [
    "# Bigger example.\n",
    "H = 5000\n",
    "W = 5000\n",
    "X = np.random.randint(6, size=(H,W))\n",
    "Z = np.asarray([10,11,12,13,14,15])"
   ]
  },
  {
   "cell_type": "code",
   "execution_count": 110,
   "metadata": {},
   "outputs": [
    {
     "data": {
      "text/plain": [
       "array([[4, 5, 0, ..., 4, 3, 0],\n",
       "       [2, 2, 1, ..., 1, 0, 5],\n",
       "       [2, 4, 0, ..., 1, 2, 5],\n",
       "       ..., \n",
       "       [3, 1, 5, ..., 3, 1, 3],\n",
       "       [2, 3, 3, ..., 2, 5, 5],\n",
       "       [1, 2, 4, ..., 3, 1, 2]])"
      ]
     },
     "execution_count": 110,
     "metadata": {},
     "output_type": "execute_result"
    }
   ],
   "source": [
    "X"
   ]
  },
  {
   "cell_type": "code",
   "execution_count": 111,
   "metadata": {},
   "outputs": [
    {
     "data": {
      "text/plain": [
       "array([10, 11, 12, 13, 14, 15])"
      ]
     },
     "execution_count": 111,
     "metadata": {},
     "output_type": "execute_result"
    }
   ],
   "source": [
    "Z"
   ]
  },
  {
   "cell_type": "code",
   "execution_count": 112,
   "metadata": {},
   "outputs": [
    {
     "name": "stdout",
     "output_type": "stream",
     "text": [
      "CPU times: user 7.74 s, sys: 12 ms, total: 7.75 s\n",
      "Wall time: 7.75 s\n"
     ]
    }
   ],
   "source": [
    "%%time\n",
    "Y_loop = python_loop(X,H,W,Z)"
   ]
  },
  {
   "cell_type": "code",
   "execution_count": 113,
   "metadata": {},
   "outputs": [
    {
     "name": "stdout",
     "output_type": "stream",
     "text": [
      "Execution time is 8.040576578000014 s\n",
      "Execution time is 8.160830093999948 s\n",
      "Execution time is 7.749624482000058 s\n",
      "Execution time is 7.843026991999977 s\n",
      "Execution time is 7.922883432000049 s\n",
      "Execution time is 7.738561699999991 s\n",
      "Execution time is 7.864999529999977 s\n",
      "Execution time is 7.809825566999962 s\n",
      "Execution time is 7.796143354000037 s\n",
      "Execution time is 7.699588722000044 s\n"
     ]
    }
   ],
   "source": [
    "for i in range(10):\n",
    "    a = time.process_time()\n",
    "    Y_loop = python_loop(X,H,W,Z)\n",
    "    b = time.process_time()\n",
    "    print(\"Execution time is {} s\".format(b-a))"
   ]
  },
  {
   "cell_type": "code",
   "execution_count": 114,
   "metadata": {},
   "outputs": [],
   "source": [
    "def vectorize_loop(X,Z):\n",
    "    \"\"\"A better? vectorized loop\"\"\"\n",
    "    Y = np.empty_like(X)\n",
    "    for x, z in enumerate(Z):\n",
    "        Y[X==x] = z\n",
    "    return Y"
   ]
  },
  {
   "cell_type": "code",
   "execution_count": 115,
   "metadata": {},
   "outputs": [
    {
     "name": "stdout",
     "output_type": "stream",
     "text": [
      "CPU times: user 624 ms, sys: 28 ms, total: 652 ms\n",
      "Wall time: 649 ms\n"
     ]
    }
   ],
   "source": [
    "%%time\n",
    "Y_vec = vectorize_loop(X,Z)"
   ]
  },
  {
   "cell_type": "code",
   "execution_count": 116,
   "metadata": {},
   "outputs": [
    {
     "name": "stdout",
     "output_type": "stream",
     "text": [
      "Execution time is 0.6491648260000602 s\n",
      "Execution time is 0.6235060870000098 s\n",
      "Execution time is 0.5965811920000306 s\n",
      "Execution time is 0.6218038189999788 s\n",
      "Execution time is 0.5884592200000043 s\n",
      "Execution time is 0.5872754279999981 s\n",
      "Execution time is 0.6016162140000461 s\n",
      "Execution time is 0.5924948959999483 s\n",
      "Execution time is 0.5946380770000133 s\n",
      "Execution time is 0.5869493039999725 s\n"
     ]
    }
   ],
   "source": [
    "for i in range(10):\n",
    "    a = time.process_time()\n",
    "    Y_vec = vectorize_loop(X,Z)\n",
    "    b = time.process_time()\n",
    "    print(\"Execution time is {} s\".format(b-a))"
   ]
  },
  {
   "cell_type": "code",
   "execution_count": 117,
   "metadata": {},
   "outputs": [],
   "source": [
    "assert np.alltrue(Y_vec == Y_loop)"
   ]
  },
  {
   "cell_type": "code",
   "execution_count": 118,
   "metadata": {},
   "outputs": [],
   "source": [
    "%%cython\n",
    "def cython_slow_loop(Y,X,H,W,Z):\n",
    "    \"\"\"Cython without any datatypes declared. Note the vars are pass-by-ref.\"\"\"\n",
    "    for h in range(H):\n",
    "        for w in range(W):\n",
    "            Y[h,w] = Z[X[h,w]]\n",
    "    return Y"
   ]
  },
  {
   "cell_type": "code",
   "execution_count": 119,
   "metadata": {},
   "outputs": [
    {
     "name": "stdout",
     "output_type": "stream",
     "text": [
      "CPU times: user 6.78 s, sys: 32 ms, total: 6.81 s\n",
      "Wall time: 6.79 s\n"
     ]
    }
   ],
   "source": [
    "%%time\n",
    "Yc_slow = np.empty_like(X)\n",
    "cython_slow_loop(Yc_slow,X,H,W,Z)"
   ]
  },
  {
   "cell_type": "code",
   "execution_count": 120,
   "metadata": {},
   "outputs": [
    {
     "name": "stdout",
     "output_type": "stream",
     "text": [
      "Execution time is 6.796748275000027 s\n",
      "Execution time is 6.706175556000062 s\n",
      "Execution time is 6.7109395769999765 s\n",
      "Execution time is 6.712201535999952 s\n",
      "Execution time is 6.666113223999901 s\n",
      "Execution time is 6.698336114000085 s\n",
      "Execution time is 6.671143561000008 s\n",
      "Execution time is 6.656526871999972 s\n",
      "Execution time is 6.612933903999988 s\n",
      "Execution time is 6.654387261000011 s\n"
     ]
    }
   ],
   "source": [
    "for i in range(10):\n",
    "    a = time.process_time()\n",
    "    Yc_slow = np.empty_like(X)\n",
    "    cython_slow_loop(Yc_slow,X,H,W,Z)\n",
    "    b = time.process_time()\n",
    "    print(\"Execution time is {} s\".format(b-a))"
   ]
  },
  {
   "cell_type": "code",
   "execution_count": 121,
   "metadata": {},
   "outputs": [],
   "source": [
    "# Make sure values are equal.\n",
    "assert np.alltrue(Yc_slow == Y_loop)"
   ]
  },
  {
   "cell_type": "code",
   "execution_count": 122,
   "metadata": {},
   "outputs": [],
   "source": [
    "%%cython\n",
    "def cython_loop(long [:,:] Y, long [:,:] X, long H, long W, long [:] Z):\n",
    "    \"\"\"Real fast cython loop with variable types declared.\"\"\"\n",
    "    cdef long h\n",
    "    cdef long w\n",
    "    cdef long val\n",
    "    for h in range(H):\n",
    "        for w in range(W):\n",
    "            val = X[h,w]\n",
    "            Y[h,w] = Z[val]\n",
    "    return Y"
   ]
  },
  {
   "cell_type": "code",
   "execution_count": 123,
   "metadata": {},
   "outputs": [
    {
     "name": "stdout",
     "output_type": "stream",
     "text": [
      "CPU times: user 88 ms, sys: 24 ms, total: 112 ms\n",
      "Wall time: 112 ms\n"
     ]
    }
   ],
   "source": [
    "%%time\n",
    "Yc = np.empty_like(X)\n",
    "cython_loop(Yc,X,H,W,Z)"
   ]
  },
  {
   "cell_type": "code",
   "execution_count": 124,
   "metadata": {},
   "outputs": [
    {
     "name": "stdout",
     "output_type": "stream",
     "text": [
      "Execution time is 0.09039332199995442 s\n",
      "Execution time is 0.06961140600003546 s\n",
      "Execution time is 0.07071664600005079 s\n",
      "Execution time is 0.058919328999991194 s\n",
      "Execution time is 0.058738907000019935 s\n",
      "Execution time is 0.058764312999983304 s\n",
      "Execution time is 0.06657909300008669 s\n",
      "Execution time is 0.05968121199998677 s\n",
      "Execution time is 0.059940409999967414 s\n",
      "Execution time is 0.058434362000070905 s\n"
     ]
    }
   ],
   "source": [
    "for i in range(10):\n",
    "    a = time.process_time()\n",
    "    Yc = np.empty_like(X)\n",
    "    cython_loop(Yc,X,H,W,Z)\n",
    "    b = time.process_time()\n",
    "    print(\"Execution time is {} s\".format(b-a))"
   ]
  },
  {
   "cell_type": "code",
   "execution_count": 125,
   "metadata": {},
   "outputs": [],
   "source": [
    "assert np.alltrue(Yc == Y_loop)"
   ]
  },
  {
   "cell_type": "code",
   "execution_count": 126,
   "metadata": {},
   "outputs": [
    {
     "name": "stdout",
     "output_type": "stream",
     "text": [
      "Execution time is 0.10892011500004628 s\n",
      "Execution time is 0.067715163999992 s\n",
      "Execution time is 0.05603121100000408 s\n",
      "Execution time is 0.05732491799994932 s\n",
      "Execution time is 0.04924554799993075 s\n",
      "Execution time is 0.049323712999921554 s\n",
      "Execution time is 0.05073933100004524 s\n",
      "Execution time is 0.049617672000067614 s\n",
      "Execution time is 0.056857606999983545 s\n",
      "Execution time is 0.06376729600003728 s\n"
     ]
    }
   ],
   "source": [
    "Yc = np.empty_like(X)\n",
    "for i in range(10):\n",
    "    a = time.process_time()\n",
    "    cython_loop(Yc,X,H,W,Z)\n",
    "    b = time.process_time()\n",
    "    print(\"Execution time is {} s\".format(b-a))"
   ]
  }
 ],
 "metadata": {
  "kernelspec": {
   "display_name": "Python 3",
   "language": "python",
   "name": "python3"
  },
  "language_info": {
   "codemirror_mode": {
    "name": "ipython",
    "version": 3
   },
   "file_extension": ".py",
   "mimetype": "text/x-python",
   "name": "python",
   "nbconvert_exporter": "python",
   "pygments_lexer": "ipython3",
   "version": "3.6.3"
  }
 },
 "nbformat": 4,
 "nbformat_minor": 1
}
